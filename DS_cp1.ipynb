{
 "cells": [
  {
   "cell_type": "markdown",
   "metadata": {},
   "source": [
    "<font size = 8 color = steelblue> Data Science Project"
   ]
  },
  {
   "cell_type": "code",
   "execution_count": null,
   "metadata": {},
   "outputs": [],
   "source": [
    "import numpy as np \n",
    "import pandas as pd "
   ]
  },
  {
   "cell_type": "code",
   "execution_count": null,
   "metadata": {},
   "outputs": [],
   "source": [
    "hospital = pd.read_csv(\"Hospitalisation details.csv\")\n",
    "hospital.head()     "
   ]
  },
  {
   "cell_type": "code",
   "execution_count": null,
   "metadata": {},
   "outputs": [],
   "source": [
    "Medical = pd.read_csv(\"Medical Examinations.csv\")\n",
    "Medical.head()\n"
   ]
  },
  {
   "cell_type": "code",
   "execution_count": null,
   "metadata": {},
   "outputs": [],
   "source": [
    "names = pd.read_excel('Names.xlsx')\n",
    "names.head()"
   ]
  },
  {
   "cell_type": "code",
   "execution_count": null,
   "metadata": {},
   "outputs": [],
   "source": [
    "print(hospital.shape)\n",
    "print(Medical.shape)\n",
    "print(names.shape)"
   ]
  },
  {
   "cell_type": "markdown",
   "metadata": {},
   "source": [
    "### Took data into one place, Merge the data "
   ]
  },
  {
   "cell_type": "code",
   "execution_count": null,
   "metadata": {},
   "outputs": [],
   "source": [
    "data = pd.merge(hospital,Medical,how = 'outer',on = 'Customer ID')\n",
    "data = pd.merge(names,data,how='outer', on = 'Customer ID')\n",
    "data.tail()"
   ]
  },
  {
   "cell_type": "code",
   "execution_count": null,
   "metadata": {},
   "outputs": [],
   "source": [
    "data.shape"
   ]
  },
  {
   "cell_type": "markdown",
   "metadata": {},
   "source": [
    "### Check for missing values in the dataset"
   ]
  },
  {
   "cell_type": "code",
   "execution_count": null,
   "metadata": {},
   "outputs": [],
   "source": [
    "hospital.isna().sum()"
   ]
  },
  {
   "cell_type": "code",
   "execution_count": null,
   "metadata": {},
   "outputs": [],
   "source": [
    "Medical.isna().sum()"
   ]
  },
  {
   "cell_type": "code",
   "execution_count": null,
   "metadata": {},
   "outputs": [],
   "source": [
    "names.isna().sum()"
   ]
  },
  {
   "cell_type": "code",
   "execution_count": null,
   "metadata": {},
   "outputs": [],
   "source": [
    "data.isna().sum()"
   ]
  },
  {
   "cell_type": "code",
   "execution_count": null,
   "metadata": {},
   "outputs": [],
   "source": [
    "data[data.isnull().any(axis = 1)]"
   ]
  },
  {
   "cell_type": "markdown",
   "metadata": {},
   "source": [
    "### Columns that contain \"?\" Count in Data\n"
   ]
  },
  {
   "cell_type": "code",
   "execution_count": null,
   "metadata": {},
   "outputs": [],
   "source": [
    "question_counts = data[data == '?'].count()\n",
    "non_zero = question_counts[question_counts != 0]\n",
    "non_zero"
   ]
  },
  {
   "cell_type": "markdown",
   "metadata": {},
   "source": [
    "### Total Percent of rows that contain '?' Values"
   ]
  },
  {
   "cell_type": "code",
   "execution_count": null,
   "metadata": {},
   "outputs": [],
   "source": [
    "print(((non_zero.sum() / data.shape[0]) * 100).round(2),'%')"
   ]
  },
  {
   "cell_type": "markdown",
   "metadata": {},
   "source": [
    "### Column Wise"
   ]
  },
  {
   "cell_type": "code",
   "execution_count": null,
   "metadata": {},
   "outputs": [],
   "source": [
    "trival_val_percent = (non_zero.values / data.shape[0] * 100).round(2)\n",
    "trival_val_percent = pd.DataFrame(trival_val_percent,index = non_zero.index,columns=['Percent'])\n",
    "trival_val_percent.sort_values('Percent',ascending=False)"
   ]
  },
  {
   "cell_type": "markdown",
   "metadata": {},
   "source": [
    "### Data with contain \"?\" in all columns"
   ]
  },
  {
   "cell_type": "code",
   "execution_count": null,
   "metadata": {},
   "outputs": [],
   "source": [
    "ques_data = []\n",
    "for col in (non_zero.index):\n",
    "    display(data[data[col] == '?'])\n",
    "    l = data[data[col] == '?'].index.to_list()\n",
    "    ques_data.append(l)"
   ]
  },
  {
   "cell_type": "markdown",
   "metadata": {},
   "source": [
    "### Droping Null values or \"?\" values"
   ]
  },
  {
   "cell_type": "code",
   "execution_count": null,
   "metadata": {},
   "outputs": [],
   "source": [
    "data.replace(\"?\",np.nan,inplace=True)\n",
    "data.dropna(inplace=True)"
   ]
  },
  {
   "cell_type": "markdown",
   "metadata": {},
   "source": [
    "### Transformation to deal with the nominal and ordinal categorical variables in the dataset"
   ]
  },
  {
   "cell_type": "code",
   "execution_count": null,
   "metadata": {},
   "outputs": [],
   "source": [
    "data.dtypes[data.dtypes == 'object']"
   ]
  },
  {
   "cell_type": "code",
   "execution_count": null,
   "metadata": {},
   "outputs": [],
   "source": [
    "data.year = data.year.astype(int)\n",
    "data['Customer ID'] = data['Customer ID'].str.removeprefix('Id')\n",
    "data['Customer ID'] = data['Customer ID'].astype(int)"
   ]
  },
  {
   "cell_type": "code",
   "execution_count": null,
   "metadata": {},
   "outputs": [],
   "source": [
    "data.month.unique()"
   ]
  },
  {
   "cell_type": "code",
   "execution_count": null,
   "metadata": {},
   "outputs": [],
   "source": [
    "data.month.value_counts()"
   ]
  },
  {
   "cell_type": "code",
   "execution_count": null,
   "metadata": {},
   "outputs": [],
   "source": [
    "months = {'Oct': 10, 'Dec': 12, 'Jun': 6, 'Sep': 9, 'Aug': 8, 'Nov': 11, 'Jul': 7}\n",
    "data['month'] = data['month'].map(months).astype(int)"
   ]
  },
  {
   "cell_type": "code",
   "execution_count": null,
   "metadata": {},
   "outputs": [],
   "source": [
    "data.month.value_counts()"
   ]
  },
  {
   "cell_type": "markdown",
   "metadata": {},
   "source": [
    "### Drop name column & convert all categorical column exclude StateID column"
   ]
  },
  {
   "cell_type": "code",
   "execution_count": null,
   "metadata": {},
   "outputs": [],
   "source": [
    "data1 = data.drop(columns='name')\n",
    "col = data1.dtypes[(data.dtypes == 'object') & (data.columns != 'State ID')].index.tolist()\n",
    "dummy_data = pd.get_dummies(data1,drop_first=True,columns=col)"
   ]
  },
  {
   "cell_type": "code",
   "execution_count": null,
   "metadata": {},
   "outputs": [],
   "source": [
    "dummy_data.head()"
   ]
  },
  {
   "cell_type": "markdown",
   "metadata": {},
   "source": [
    "### Creating dummy variables with State R1011, R1012, and R1013."
   ]
  },
  {
   "cell_type": "code",
   "execution_count": null,
   "metadata": {},
   "outputs": [],
   "source": [
    "data['State ID'].value_counts()"
   ]
  },
  {
   "cell_type": "code",
   "execution_count": null,
   "metadata": {},
   "outputs": [],
   "source": [
    "dummy_data = pd.get_dummies(data['State ID'].apply(lambda x: x if x in ['R1011', 'R1012','R1013'] else None))\n",
    "dummy_data = pd.concat([data,dummy_data],axis = 1)\n",
    "dummy_data.head()"
   ]
  },
  {
   "cell_type": "markdown",
   "metadata": {},
   "source": [
    "### To replace string in  NumberOfMajorSurgeries Column."
   ]
  },
  {
   "cell_type": "code",
   "execution_count": null,
   "metadata": {},
   "outputs": [],
   "source": [
    "dummy_data['NumberOfMajorSurgeries'].value_counts()"
   ]
  },
  {
   "cell_type": "code",
   "execution_count": null,
   "metadata": {},
   "outputs": [],
   "source": [
    "dummy_data['NumberOfMajorSurgeries'] = dummy_data['NumberOfMajorSurgeries'].replace('No major surgery',0).astype(int)\n",
    "dummy_data['NumberOfMajorSurgeries'].value_counts()"
   ]
  },
  {
   "cell_type": "markdown",
   "metadata": {},
   "source": [
    "### Age Calculation using year column"
   ]
  },
  {
   "cell_type": "code",
   "execution_count": null,
   "metadata": {},
   "outputs": [],
   "source": [
    "from datetime import datetime, date\n",
    "datetime.now().year"
   ]
  },
  {
   "cell_type": "code",
   "execution_count": null,
   "metadata": {},
   "outputs": [],
   "source": [
    "data['Age'] = datetime.now().year - data['year']\n",
    "data['Age']"
   ]
  },
  {
   "cell_type": "markdown",
   "metadata": {},
   "source": [
    "### To determine Gender of Patient from name column "
   ]
  },
  {
   "cell_type": "code",
   "execution_count": null,
   "metadata": {},
   "outputs": [],
   "source": [
    "data.name"
   ]
  },
  {
   "cell_type": "code",
   "execution_count": null,
   "metadata": {},
   "outputs": [],
   "source": [
    "data[['firsts','last_name']] = data['name'].str.split('.',expand=True,n= 1)\n",
    "data[['first_name','gender']] = data['firsts'].str.split(',',expand=True)\n",
    "data.drop(columns = ['name','firsts'],inplace = True)"
   ]
  },
  {
   "cell_type": "code",
   "execution_count": null,
   "metadata": {},
   "outputs": [],
   "source": [
    "data.gender = data.gender.replace(' Ms','male')\n",
    "data.gender = data.gender.replace(' Mr','female')\n",
    "data.gender = data.gender.replace(' Mrs','female')\n",
    "data.head()"
   ]
  },
  {
   "cell_type": "code",
   "execution_count": null,
   "metadata": {},
   "outputs": [],
   "source": [
    "data.gender.value_counts()"
   ]
  },
  {
   "cell_type": "code",
   "execution_count": null,
   "metadata": {},
   "outputs": [],
   "source": [
    "import seaborn as sns\n",
    "import matplotlib.pyplot as plt"
   ]
  },
  {
   "cell_type": "markdown",
   "metadata": {},
   "source": [
    "### Distribution of charges"
   ]
  },
  {
   "cell_type": "code",
   "execution_count": null,
   "metadata": {},
   "outputs": [],
   "source": [
    "data.charges.hist()\n",
    "plt.show()"
   ]
  },
  {
   "cell_type": "code",
   "execution_count": null,
   "metadata": {},
   "outputs": [],
   "source": [
    "sns.histplot(data.charges,kde = True)\n",
    "plt.show()"
   ]
  },
  {
   "cell_type": "code",
   "execution_count": null,
   "metadata": {},
   "outputs": [],
   "source": [
    "sns.boxplot(data.charges)\n",
    "plt.show()"
   ]
  },
  {
   "cell_type": "markdown",
   "metadata": {},
   "source": [
    "### Distribution of charges among hospital tiers"
   ]
  },
  {
   "cell_type": "code",
   "execution_count": null,
   "metadata": {},
   "outputs": [],
   "source": [
    "plt.figure(figsize=(10,7))\n",
    "sns.swarmplot(x = data['Hospital tier'],y = data.charges,size = 2,hue = data['Hospital tier'])\n",
    "plt.show()"
   ]
  },
  {
   "cell_type": "markdown",
   "metadata": {},
   "source": [
    "### Distribution across gender and tiers of hospitals"
   ]
  },
  {
   "cell_type": "code",
   "execution_count": null,
   "metadata": {},
   "outputs": [],
   "source": [
    "sns.histplot(x = data['Hospital tier'],y = data.charges,hue = data.gender)\n",
    "plt.show()"
   ]
  },
  {
   "cell_type": "code",
   "execution_count": null,
   "metadata": {},
   "outputs": [],
   "source": [
    "sns.barplot(x = data['Hospital tier'],y = data.charges,hue = data.gender)\n",
    "sns.lineplot(x = data['Hospital tier'],y = data.charges,hue = data.gender)\n",
    "plt.show()"
   ]
  },
  {
   "cell_type": "markdown",
   "metadata": {},
   "source": [
    "### Radar chart to showcase the median hospitalization cost for each tier of hospitals"
   ]
  },
  {
   "cell_type": "code",
   "execution_count": null,
   "metadata": {},
   "outputs": [],
   "source": [
    "data.groupby('Hospital tier')['charges'].median().values.tolist()"
   ]
  },
  {
   "cell_type": "code",
   "execution_count": null,
   "metadata": {},
   "outputs": [],
   "source": [
    "data['Hospital tier'].value_counts().index.sort_values().tolist()"
   ]
  },
  {
   "cell_type": "code",
   "execution_count": null,
   "metadata": {},
   "outputs": [],
   "source": [
    "labels = data['Hospital tier'].value_counts().index.sort_values().tolist()\n",
    "values = data.groupby('Hospital tier')['charges'].median().values.tolist()\n",
    "\n",
    "values += values[:1]  \n",
    "\n",
    "angles = np.linspace(0, 2 * np.pi, len(labels), endpoint=False).tolist()\n",
    "angles += angles[:1]  \n",
    "\n",
    "fig, ax = plt.subplots(figsize=(5, 5), subplot_kw=dict(polar=True))\n",
    "plt.xticks(angles[:-1], labels)\n",
    "\n",
    "ax.plot(angles, values, linewidth=1, linestyle='solid')\n",
    "ax.fill(angles, values, color='blue', alpha=0.25)\n",
    "\n",
    "plt.title('Radar Chart', size=20, color='darkblue', y=1.1)\n",
    "plt.show()      "
   ]
  },
  {
   "cell_type": "markdown",
   "metadata": {},
   "source": [
    "### Frequency table and a stacked bar chart to visualize the count of people in the different tiers of cities and hospitals"
   ]
  },
  {
   "cell_type": "code",
   "execution_count": null,
   "metadata": {},
   "outputs": [],
   "source": [
    "data['City tier'].value_counts()"
   ]
  },
  {
   "cell_type": "code",
   "execution_count": null,
   "metadata": {},
   "outputs": [],
   "source": [
    "data['Hospital tier'].value_counts()"
   ]
  },
  {
   "cell_type": "code",
   "execution_count": null,
   "metadata": {},
   "outputs": [],
   "source": [
    "freq_table = pd.crosstab(index = data['City tier'],columns=data['Hospital tier'])\n",
    "freq_table"
   ]
  },
  {
   "cell_type": "code",
   "execution_count": null,
   "metadata": {},
   "outputs": [],
   "source": [
    "frequency_table = pd.pivot_table(data,index = ['City tier'],columns = ['Hospital tier'],values=['charges']).round(2)\n",
    "frequency_table"
   ]
  },
  {
   "cell_type": "code",
   "execution_count": null,
   "metadata": {},
   "outputs": [],
   "source": [
    "freq_table.plot(kind='bar')\n",
    "plt.show()"
   ]
  },
  {
   "cell_type": "code",
   "execution_count": null,
   "metadata": {},
   "outputs": [],
   "source": [
    "y1 = freq_table.values[0].tolist()\n",
    "y2 = freq_table.values[1].tolist()\n",
    "y3 = freq_table.values[2].tolist()"
   ]
  },
  {
   "cell_type": "markdown",
   "metadata": {},
   "source": [
    "### Stack bar Chart "
   ]
  },
  {
   "cell_type": "code",
   "execution_count": null,
   "metadata": {},
   "outputs": [],
   "source": [
    "x = freq_table.index.tolist()\n",
    "plt.bar(x,y1,label = 'hospital tier 1')\n",
    "plt.bar(x,y2,bottom=y1,label = 'hospital tier 2')\n",
    "plt.bar(x,y3,bottom=np.array(y1) + np.array(y2),label = 'hospital tier 3')\n",
    "plt.xlabel('City Tier')\n",
    "plt.ylabel('Count of people')\n",
    "plt.title('Stack Bar Chart for Count of People')\n",
    "plt.legend()\n",
    "plt.show()"
   ]
  },
  {
   "cell_type": "markdown",
   "metadata": {},
   "source": [
    "#### Hypothesis testing for average hospitalization costs for the three types of hospitals are not significantly different"
   ]
  },
  {
   "cell_type": "code",
   "execution_count": null,
   "metadata": {},
   "outputs": [],
   "source": [
    "data.groupby('Hospital tier')['charges'].mean()"
   ]
  },
  {
   "cell_type": "code",
   "execution_count": null,
   "metadata": {},
   "outputs": [],
   "source": [
    "hospital1 = data.loc[data['Hospital tier'] == 'tier - 1','charges']\n",
    "hospital2 = data.loc[data['Hospital tier'] == 'tier - 2','charges']\n",
    "hospital3 = data.loc[data['Hospital tier'] == 'tier - 3','charges']"
   ]
  },
  {
   "cell_type": "code",
   "execution_count": null,
   "metadata": {},
   "outputs": [],
   "source": [
    "alpha = 0.05\n",
    "def conclusion(st,p_val,alpha = 0.05):\n",
    "    print(f\"Stats- {st:0.4f} Pvalue: {p_val:0.4f}\")\n",
    "    if p_val < alpha:\n",
    "        print(f\"Reject the Null at alpha = {alpha*100}%.\")\n",
    "    else:\n",
    "        print(f\"Fail to reject the Null at alpha = {alpha*100}%.\")"
   ]
  },
  {
   "cell_type": "code",
   "execution_count": null,
   "metadata": {},
   "outputs": [],
   "source": [
    "import scipy.stats as stats\n",
    "from scipy.stats import f_oneway\n",
    "f,p = f_oneway(hospital1,hospital2,hospital3)\n",
    "conclusion(f,p)"
   ]
  },
  {
   "cell_type": "markdown",
   "metadata": {},
   "source": [
    "#### Hypothesis Testing for average hospitalization costs for the three types of cities are not significantly different."
   ]
  },
  {
   "cell_type": "code",
   "execution_count": null,
   "metadata": {},
   "outputs": [],
   "source": [
    "data.groupby('City tier')['charges'].mean()"
   ]
  },
  {
   "cell_type": "code",
   "execution_count": null,
   "metadata": {},
   "outputs": [],
   "source": [
    "city1 = data.loc[data['City tier'] == 'tier - 1','charges']\n",
    "city2 = data.loc[data['City tier'] == 'tier - 2','charges']\n",
    "city3 = data.loc[data['City tier'] == 'tier - 3','charges']"
   ]
  },
  {
   "cell_type": "code",
   "execution_count": null,
   "metadata": {},
   "outputs": [],
   "source": [
    "f,p = f_oneway(city1,city2,city3)\n",
    "conclusion(f,p)"
   ]
  },
  {
   "cell_type": "markdown",
   "metadata": {},
   "source": [
    "#### Hypothesis testing for average hospitalization cost for smokers is not significantly different from the average cost for nonsmokers"
   ]
  },
  {
   "cell_type": "code",
   "execution_count": null,
   "metadata": {},
   "outputs": [],
   "source": [
    "data.groupby('smoker')['charges'].mean()"
   ]
  },
  {
   "cell_type": "code",
   "execution_count": null,
   "metadata": {},
   "outputs": [],
   "source": [
    "sample_1 = data.loc[data.smoker == 'yes','charges']\n",
    "sample_2 = data.loc[data.smoker == 'No','charges']\n",
    "t, p = stats.ttest_ind(sample_1,sample_2,alternative='greater') \n",
    "conclusion(t,p)"
   ]
  },
  {
   "cell_type": "markdown",
   "metadata": {},
   "source": [
    "#### Hypothesis testing for Smoking and heart issues are independent."
   ]
  },
  {
   "cell_type": "code",
   "execution_count": null,
   "metadata": {},
   "outputs": [],
   "source": [
    "heart_issue_smoker = data[(data['Heart Issues'] == 'yes') & (data['smoker'] == 'yes')]['charges']\n",
    "heart_issue_no_smoker = data[(data['Heart Issues'] == 'yes') & (data['smoker'] == 'No')]['charges']\n",
    "no_heart_issue_smoker = data[(data['Heart Issues'] == 'No') & (data['smoker'] == 'yes')]['charges']\n",
    "no_heart_issue_no_smoker = data[(data['Heart Issues'] == 'No') & (data['smoker'] == 'No')]['charges']"
   ]
  },
  {
   "cell_type": "code",
   "execution_count": null,
   "metadata": {},
   "outputs": [],
   "source": [
    "a = len(heart_issue_smoker)\n",
    "b = len(heart_issue_no_smoker)\n",
    "c = len(no_heart_issue_smoker)\n",
    "d = len(no_heart_issue_no_smoker)\n",
    "contigency_table = [[a,b],[c,d]]\n",
    "contigency_table"
   ]
  },
  {
   "cell_type": "code",
   "execution_count": null,
   "metadata": {},
   "outputs": [],
   "source": [
    "from scipy.stats import chi2_contingency\n",
    "chi2, p_value, dof, expected = chi2_contingency(contigency_table)\n",
    "print(chi2)\n",
    "print(p_value)\n",
    "print(dof)      \n",
    "print(expected)\n",
    "alpha = 0.05\n",
    "if p_value <= alpha:\n",
    "    print(f\"Reject null at stats- {chi2}: \")\n",
    "else:\n",
    "    print(f\"Fail to reject the null at {alpha*100:.1f}%\")    "
   ]
  },
  {
   "cell_type": "code",
   "execution_count": null,
   "metadata": {},
   "outputs": [],
   "source": [
    "conclusion(chi2,p_value)"
   ]
  }
 ],
 "metadata": {
  "kernelspec": {
   "display_name": "Python 3",
   "language": "python",
   "name": "python3"
  },
  "language_info": {
   "codemirror_mode": {
    "name": "ipython",
    "version": 3
   },
   "file_extension": ".py",
   "mimetype": "text/x-python",
   "name": "python",
   "nbconvert_exporter": "python",
   "pygments_lexer": "ipython3",
   "version": "3.13.0"
  }
 },
 "nbformat": 4,
 "nbformat_minor": 2
}
